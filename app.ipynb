{
 "cells": [
  {
   "cell_type": "markdown",
   "metadata": {},
   "source": [
    "### Build RAG Application"
   ]
  },
  {
   "cell_type": "code",
   "execution_count": 31,
   "metadata": {},
   "outputs": [],
   "source": [
    "import os\n",
    "from dotenv import load_dotenv\n",
    "load_dotenv()\n",
    "YOUTUBE_VIDEO = \"https://www.youtube.com/watch?v=cdiD-9MMpb0\""
   ]
  },
  {
   "cell_type": "markdown",
   "metadata": {},
   "source": [
    "### Setup the Model  /  Configurer le modèle"
   ]
  },
  {
   "cell_type": "code",
   "execution_count": 32,
   "metadata": {
    "scrolled": true
   },
   "outputs": [
    {
     "data": {
      "text/plain": [
       "AIMessage(content='Elon Musk is a billionaire entrepreneur and CEO of multiple companies, including Tesla, SpaceX, Neuralink, and The Boring Company. He is known for his work in the fields of electric vehicles, space exploration, and renewable energy. Musk is also known for his ambitious goals, such as colonizing Mars and developing a high-speed transportation system known as the Hyperloop.', response_metadata={'token_usage': {'completion_tokens': 74, 'prompt_tokens': 12, 'total_tokens': 86, 'completion_tokens_details': {'accepted_prediction_tokens': 0, 'audio_tokens': 0, 'reasoning_tokens': 0, 'rejected_prediction_tokens': 0}, 'prompt_tokens_details': {'audio_tokens': 0, 'cached_tokens': 0}}, 'model_name': 'gpt-3.5-turbo', 'system_fingerprint': None, 'finish_reason': 'stop', 'logprobs': None}, id='run-d7eb3d4e-bcec-482d-8388-1f2bbf4deb70-0')"
      ]
     },
     "execution_count": 32,
     "metadata": {},
     "output_type": "execute_result"
    }
   ],
   "source": [
    "from langchain_openai.chat_models import ChatOpenAI\n",
    "# from langchain_openai import ChatOpenAI\n",
    "model = ChatOpenAI(model=\"gpt-3.5-turbo\", temperature=0.0)\n",
    "\n",
    "# Test the model\n",
    "model.invoke(\"Who is Elon Musk?\")"
   ]
  },
  {
   "cell_type": "code",
   "execution_count": 33,
   "metadata": {},
   "outputs": [
    {
     "data": {
      "text/plain": [
       "'Elon Musk is a billionaire entrepreneur and CEO of multiple companies, including Tesla, SpaceX, Neuralink, and The Boring Company. He is known for his work in the fields of electric vehicles, space exploration, and renewable energy. Musk is also a prominent figure in popular culture and is often referred to as a visionary and innovator.'"
      ]
     },
     "execution_count": 33,
     "metadata": {},
     "output_type": "execute_result"
    }
   ],
   "source": [
    "# Let's use StrOutputParser to extract the answer as a sstring\n",
    "from langchain_core.output_parsers import StrOutputParser\n",
    "parser = StrOutputParser()\n",
    "chain = model | parser\n",
    "chain.invoke(\"Who is Elon Musk?\")"
   ]
  },
  {
   "cell_type": "markdown",
   "metadata": {},
   "source": [
    "#### Introduce Prompts Template\n",
    "## Introduire le Prompts Template -- Modèle d'invite de présentation"
   ]
  },
  {
   "cell_type": "code",
   "execution_count": 47,
   "metadata": {},
   "outputs": [
    {
     "data": {
      "text/plain": [
       "'Human: \\nAnswer the question based on the context below. If you can\\'t answer the question, \\nreply \"My apologies, but I have no clue\".env\\nContext: Britney\\'s sister is Alyssia\\n\\nQuestion: Who is Alyssia\\'s sister?\\n'"
      ]
     },
     "execution_count": 47,
     "metadata": {},
     "output_type": "execute_result"
    }
   ],
   "source": [
    "from langchain.prompts import ChatPromptTemplate\n",
    "template = \"\"\"\n",
    "Answer the question based on the context below. If you can't answer the question, \n",
    "reply \"My apologies, but I have no clue\".env\n",
    "Context: {context}\n",
    "\n",
    "Question: {question}\n",
    "\"\"\"\n",
    "prompt = ChatPromptTemplate.from_template(template)\n",
    "mycontext = \"Britney's sister is Alyssia\"\n",
    "myquestion = \"Who is Alyssia's sister?\"\n",
    "prompt.format(context = mycontext, question=myquestion)"
   ]
  },
  {
   "cell_type": "markdown",
   "metadata": {},
   "source": [
    "#### chain the prompt with the model and output parser"
   ]
  },
  {
   "cell_type": "code",
   "execution_count": 48,
   "metadata": {},
   "outputs": [
    {
     "data": {
      "text/plain": [
       "\"Alyssia's sister is Britney.\""
      ]
     },
     "execution_count": 48,
     "metadata": {},
     "output_type": "execute_result"
    }
   ],
   "source": [
    "chain = prompt | model | parser\n",
    "chain.invoke({\n",
    "    \"context\" :  mycontext, \n",
    "    \"question\" : myquestion\n",
    "})"
   ]
  },
  {
   "cell_type": "markdown",
   "metadata": {},
   "source": [
    "#### Concatenate / combining Chains"
   ]
  },
  {
   "cell_type": "code",
   "execution_count": 37,
   "metadata": {},
   "outputs": [],
   "source": [
    "# Let's create a new prompt template for translating the output into Spanish/ French\n",
    "translation_prompt = ChatPromptTemplate.from_template(\n",
    "    \"Translate the {answer} to {language}\"\n",
    ")"
   ]
  },
  {
   "cell_type": "code",
   "execution_count": 49,
   "metadata": {},
   "outputs": [
    {
     "data": {
      "text/plain": [
       "'Spanish: Sarra tiene una hermana, Cerine.\\nPortuguese: Sarra tem uma irmã, Cerine.\\nFrench: Sarra a une sœur, Cerine.\\nFarsi: سارا یک خواهر دارد، سرین.'"
      ]
     },
     "execution_count": 49,
     "metadata": {},
     "output_type": "execute_result"
    }
   ],
   "source": [
    "# Let's create a new translation chain that combines the first chain with the second one (translation prompt)\n",
    "from operator import itemgetter\n",
    "translation_chain = (\n",
    "    {\"answer\": chain, \"language\": itemgetter(\"language\")} | translation_prompt | model | parser\n",
    ")\n",
    "translation_chain.invoke(\n",
    "    {\n",
    "        \"context\": \"Sarra's sister is Cerine. She does not have any more siblings.\",\n",
    "        \"question\": \"How many sisters does Sarra have?\",\n",
    "        \"language\": [\"Spanish\", \"Portuguese\", \"French\", \"Farsi\"],\n",
    "    }\n",
    ")"
   ]
  },
  {
   "cell_type": "markdown",
   "metadata": {},
   "source": [
    "### Transcribing the YouTube Video"
   ]
  },
  {
   "cell_type": "code",
   "execution_count": null,
   "metadata": {},
   "outputs": [],
   "source": [
    "# We want to send a context to the model from YouTUBE. Let's OpenAI Whisper\n",
    "import tempfile\n",
    "import whisper\n",
    "from pytubefix import YouTube\n",
    "\n",
    "YOUTUBE_VIDEO = \"https://www.youtube.com/watch?v=u47GtXwePms\"\n",
    "# Check if file not exist then create ...\n",
    "if not os.path.exists(\"transcription.txt\"):\n",
    "    youtube = YouTube(YOUTUBE_VIDEO)\n",
    "    audio = youtube.streams.filter(only_audio=True).first()\n",
    "    \n",
    "    # Let's loas the base model. Not accurate\n",
    "    whisper_model = whisper.load_model(\"base\")\n",
    "    \n",
    "    with tempfile.TemporaryDirectory() as tmpdir:\n",
    "        file = audio.download(output_path=tmpdir)\n",
    "        transcription = whisper_model.transcribe(file, fp16=False)[\"text\"].strip()\n",
    "        \n",
    "        with open(\"transcription.txt\", \"w\") as file:\n",
    "            file.write(transcription)\n",
    "\n",
    "    \n"
   ]
  },
  {
   "cell_type": "markdown",
   "metadata": {},
   "source": [
    "#### display the first few characters to ensure all is working / afficher les premiers caractères pour s'assurer que tout fonctionne"
   ]
  },
  {
   "cell_type": "code",
   "execution_count": 40,
   "metadata": {},
   "outputs": [
    {
     "data": {
      "text/plain": [
       "\"Hello everyone, now welcome to my Code to Care video series. What I'm doing is I'm rotating through three different type\""
      ]
     },
     "execution_count": 40,
     "metadata": {},
     "output_type": "execute_result"
    }
   ],
   "source": [
    "with open(\"transcription.txt\") as file:\n",
    "    transcription = file.read()\n",
    "transcription[: 120]"
   ]
  },
  {
   "cell_type": "markdown",
   "metadata": {},
   "source": [
    "### Using the entire transcription as context"
   ]
  },
  {
   "cell_type": "code",
   "execution_count": 41,
   "metadata": {},
   "outputs": [
    {
     "name": "stdout",
     "output_type": "stream",
     "text": [
      "Some challenges of LLM include the need for prompt engineering to ensure accurate responses, the difficulty of extracting relevant information from large amounts of content, and the potential bias in the generated responses. Additionally, LLM systems may struggle with understanding context and providing coherent answers to complex questions.\n"
     ]
    }
   ],
   "source": [
    "try:\n",
    "    response = chain.invoke({\n",
    "        \"context\": transcription,\n",
    "        \"question\": \"What are some challenges of LLM? \"\n",
    "    })\n",
    "    print(response)\n",
    "except Exception as e:\n",
    "    print(e)"
   ]
  },
  {
   "cell_type": "markdown",
   "metadata": {},
   "source": [
    "### Load the transcript in memory"
   ]
  },
  {
   "cell_type": "code",
   "execution_count": 42,
   "metadata": {},
   "outputs": [
    {
     "data": {
      "text/plain": [
       "[Document(page_content=\"Hello everyone, now welcome to my Code to Care video series. What I'm doing is I'm rotating through three different types of topics, educational topics, use case topics, and then kind of bias, ethics, safety topics. So now on the education rotation. And today what I wanted to talk about is what is retrieval, augmented generation or reg. And you may think that I'm going into some kind of nook and cranny of the AI field, but this is a very important and popular kind of solution pattern that I see being used over and over and over again for how to leverage large language models. So I thought I would explain it to you. And the thing that this is used for is basically systems that leverage large language models, but on your own content. So let me describe that. If you think of like the chat GPT experience, and if you think about that relative to like the search engine experience that we had before, if you ask a question like, I don't know what color is the sky or how do I fix this plumbing issue or something like that, a search engine would go out or appear to go out, search the internet, find relevant content, and then just list that content for you. List those links and then you as a user would need to click on the links that seem, seem right, read it, digest it, and figure out the answer to your question. What a large language model does is it seems to do that first part, meaning leverage the content on the whole internet. But instead of just listing that content, it sort of digest ship, digest it, combines it, assembles it together, and answers your question, sort of generates an answer. So it's a whole lot better. I mean, search engines haven't been great, but this is taking the whole experience to another level. And it is a question and answering. Now you can also give it instructions like write me this document or write me a lesson plan to teach geometry to seventh graders, and it will do something similar. It will kind of assemble content that it has seen that talks about geometry or seventh graders or how to do lesson plans or whatever, pulls that together, assembles it and then writes out a lesson plan. So it's a much better experience than just taking the raw content from the internet, but it really creates something new from that. Now let's say you want that same experience, but on your own content. So it might be a chatbot on your website or you might have a library of PDF documents that this documentation for one of your products. And instead of just linking the user to pair of sections of the documentation, you want to actually answer their question. It might be your service ticketing system. So when a new issue comes in, you could say, how would I resolve this issue? And it can assemble past similar issues and then come up with a new solution based on that. So this is an incredible experience that these large language models offer, but how can you create that experience on your own content that might not be available to the internet or available to these large language models? Well the solution to this is this rag architecture, this retrieval augmented generation architecture. So now I'm going to do my best to explain that to you. So let's say you have a user and I'm going to use the example of a patient chatbot and the content source is going to be the content from your website, let's say, or could be content from PDF documents or whatever, but you want this to be the content to answer the patient's questions. So if the patient has a question like, how do I prepare for my knee surgery? Instead of just going to chat to your BT and getting a generic answer, you'd like to provide an answer that's from your health system. Or a question like, do you have parking? You'd like to provide an answer for your health system. For your, the office where the patient is seen. So that's a scenario that I'd like to do. So the patient has a question and I'm going to do, do you have parking? And parking. You can imagine that question being bundled up into a prompt. What's called a prompt and I'll describe this more later. There is the question. That prompt is sent to a large language model and that large language model will come up with a response to that question. Okay. Now if you just want to use chat to BT, let's say, or some other LOM without any extra content, you could just use this flow. How do I prepare for my knee surgery or do you have parking? Let that into a prompt, send that to the large language model and get a response back. But what we want to do is enhance this experience with our own content. So let's say here is your content source. And again, this might be all the content of your website or PDF documents or internal ticketing system or databases or that sort of thing. And what you'd like to do is something called the prompt before the prompt. So in these systems, you don't just send the user question to the large language model. You usually have some level of instructions. So the instructions might be you are a contact center specialist working for a hospital answering patient questions that come in over the internet. Please be nice to the patients and responsive and folksy because that fits with our brand. Or some instructions like that are sometimes sent with the prompt. And then additionally, you want to provide the information that the LOM needs to answer the question. So what you'd ideally like is information from your website to be included here. And that to be sent to the LOM as well. So the full prompt might be your instructions. It might be something like please use this content in order to answer the patient question at the end. And then you put in a bunch of information about parking or about knee surgery or whenever the patient asked, you put that in the prompt before the prompt. Then you have the question. Then you send that whole package to the LOM and the LOM will give a great response based on your content. Okay? With me so far. So this notion is the prompt before the prompt. And that's why prompt engineering and these types of things are big field right now because you can really hone the systems by doing a better and better job with the actual prompt before the prompt in the style. Now the last trick here is your website or your content is huge and it talks about all kinds of topics beyond parking and beyond knee surgery. So you really want to somehow pull out only the parts of your content that are relevant to the patient's question. So this is another tricky part of this whole rag architecture. And the way that works is that you take all your content and you break it into chunks or these systems will break it into chunks. So chunks might be a paragraph of content or a couple paragraphs, a page, something like that. And then those chunks are sent to a large language model, could be the same one or a different one. And they are turned into a vector. And so each each paragraph or each chunk will have a vector which is just a series of numbers. And that series of numbers, you can think of it as the numeric representation of the essence of that paragraph. And what's different about these numbers, they're not random numbers, but paragraphs to talk about a similar topic have close by numbers. They almost have the same vectors. So in addition to the, it's a numericized version of the paragraph, but it's such that similar paragraphs on similar topics will have similar vectors, will have similar numbers. So that means that what happens is when a user will ask a question like do you have parking let's say. Then that is also sent to the LOM in real time right after the user asked the question. That comes up with the vector as well. You could think of that as the question vector. And then what happens is we do a mathematical comparison real quick between the vector of the question and then the vectors of your content and pick like the top five documents that are closest to this question. So do you have parking will be a vector. Then you have all your content and it's going to try and find the five documents that talk the most about parking basically. And so it'll find us, I don't know what that is, it'll find those documents let's say from these, it'll grab the paragraphs associated with those documents and it'll use that here. So those will be the subset of your content basically that is used as part of the prompt before the prompt. Okay. So this whole concept is kind of vectorizing your content. Typically that then are stored in something called a vector database, which is basically a representation of your content in this numeric form. And then this system that you build this rag system will take the question, find retrieve the most relevant content, make that as part of the prompt before the prompt, send that to the LOM and then you get a good response back actually. So it's a little bit confusing, but it's actually not that confusing. I just made it more confusing by this horrible drawing. But this whole thing is what is called rag retrieval. So you're retrieving the relevant documents from your content. You're augmenting the generation process. So you're augmenting the LLOM's ability to do generative AI based on the documents that you retrieve. So that's why it's retrieval augmenting generation. Okay. So I hope that made sense. Like I said, this is a very popular solution pattern that I'm seeing over and over again. In fact, the majority of LLOM projects that I see are this kind of thing. Using my content, packaging that up with an LLOM system to create a kind of chat GPT-like experience for my employees or for my customers, for my users, that kind of thing. And it works extremely well. That's why it's so popular. So I hope that was interesting and educational and made sense. If you have any questions, please leave them for me as part of the comments. Thank you very much.\", metadata={'source': 'transcription.txt'})]"
      ]
     },
     "execution_count": 42,
     "metadata": {},
     "output_type": "execute_result"
    }
   ],
   "source": [
    "from langchain_community.document_loaders import TextLoader\n",
    "loader = TextLoader(\"transcription.txt\")\n",
    "text_documents = loader.load()\n",
    "text_documents"
   ]
  },
  {
   "cell_type": "markdown",
   "metadata": {},
   "source": [
    "### Split text into chunks"
   ]
  },
  {
   "cell_type": "code",
   "execution_count": 43,
   "metadata": {},
   "outputs": [
    {
     "data": {
      "text/plain": [
       "[Document(page_content=\"Hello everyone, now welcome to my Code to Care video series. What I'm doing is I'm rotating through three different types of topics, educational topics, use case topics, and then kind of bias, ethics, safety topics. So now on the education rotation. And today what I wanted to talk about is what is retrieval, augmented generation or reg. And you may think that I'm going into some kind of nook and cranny of the AI field, but this is a very important and popular kind of solution pattern that I see being used over and over and over again for how to leverage large language models. So I thought I would explain it to you. And the thing that this is used for is basically systems that leverage large language models, but on your own content. So let me describe that. If you think of like the chat GPT experience, and if you think about that relative to like the search engine experience that we had before, if you ask a question like, I don't know what color is the sky or how do I fix this plumbing\", metadata={'source': 'transcription.txt'}),\n",
       " Document(page_content=\"experience, and if you think about that relative to like the search engine experience that we had before, if you ask a question like, I don't know what color is the sky or how do I fix this plumbing issue or something like that, a search engine would go out or appear to go out, search the internet, find relevant content, and then just list that content for you. List those links and then you as a user would need to click on the links that seem, seem right, read it, digest it, and figure out the answer to your question. What a large language model does is it seems to do that first part, meaning leverage the content on the whole internet. But instead of just listing that content, it sort of digest ship, digest it, combines it, assembles it together, and answers your question, sort of generates an answer. So it's a whole lot better. I mean, search engines haven't been great, but this is taking the whole experience to another level. And it is a question and answering. Now you can also give\", metadata={'source': 'transcription.txt'}),\n",
       " Document(page_content=\"an answer. So it's a whole lot better. I mean, search engines haven't been great, but this is taking the whole experience to another level. And it is a question and answering. Now you can also give it instructions like write me this document or write me a lesson plan to teach geometry to seventh graders, and it will do something similar. It will kind of assemble content that it has seen that talks about geometry or seventh graders or how to do lesson plans or whatever, pulls that together, assembles it and then writes out a lesson plan. So it's a much better experience than just taking the raw content from the internet, but it really creates something new from that. Now let's say you want that same experience, but on your own content. So it might be a chatbot on your website or you might have a library of PDF documents that this documentation for one of your products. And instead of just linking the user to pair of sections of the documentation, you want to actually answer their\", metadata={'source': 'transcription.txt'}),\n",
       " Document(page_content=\"have a library of PDF documents that this documentation for one of your products. And instead of just linking the user to pair of sections of the documentation, you want to actually answer their question. It might be your service ticketing system. So when a new issue comes in, you could say, how would I resolve this issue? And it can assemble past similar issues and then come up with a new solution based on that. So this is an incredible experience that these large language models offer, but how can you create that experience on your own content that might not be available to the internet or available to these large language models? Well the solution to this is this rag architecture, this retrieval augmented generation architecture. So now I'm going to do my best to explain that to you. So let's say you have a user and I'm going to use the example of a patient chatbot and the content source is going to be the content from your website, let's say, or could be content from PDF documents\", metadata={'source': 'transcription.txt'}),\n",
       " Document(page_content=\"let's say you have a user and I'm going to use the example of a patient chatbot and the content source is going to be the content from your website, let's say, or could be content from PDF documents or whatever, but you want this to be the content to answer the patient's questions. So if the patient has a question like, how do I prepare for my knee surgery? Instead of just going to chat to your BT and getting a generic answer, you'd like to provide an answer that's from your health system. Or a question like, do you have parking? You'd like to provide an answer for your health system. For your, the office where the patient is seen. So that's a scenario that I'd like to do. So the patient has a question and I'm going to do, do you have parking? And parking. You can imagine that question being bundled up into a prompt. What's called a prompt and I'll describe this more later. There is the question. That prompt is sent to a large language model and that large language model will come up\", metadata={'source': 'transcription.txt'}),\n",
       " Document(page_content=\"bundled up into a prompt. What's called a prompt and I'll describe this more later. There is the question. That prompt is sent to a large language model and that large language model will come up with a response to that question. Okay. Now if you just want to use chat to BT, let's say, or some other LOM without any extra content, you could just use this flow. How do I prepare for my knee surgery or do you have parking? Let that into a prompt, send that to the large language model and get a response back. But what we want to do is enhance this experience with our own content. So let's say here is your content source. And again, this might be all the content of your website or PDF documents or internal ticketing system or databases or that sort of thing. And what you'd like to do is something called the prompt before the prompt. So in these systems, you don't just send the user question to the large language model. You usually have some level of instructions. So the instructions might\", metadata={'source': 'transcription.txt'}),\n",
       " Document(page_content=\"called the prompt before the prompt. So in these systems, you don't just send the user question to the large language model. You usually have some level of instructions. So the instructions might be you are a contact center specialist working for a hospital answering patient questions that come in over the internet. Please be nice to the patients and responsive and folksy because that fits with our brand. Or some instructions like that are sometimes sent with the prompt. And then additionally, you want to provide the information that the LOM needs to answer the question. So what you'd ideally like is information from your website to be included here. And that to be sent to the LOM as well. So the full prompt might be your instructions. It might be something like please use this content in order to answer the patient question at the end. And then you put in a bunch of information about parking or about knee surgery or whenever the patient asked, you put that in the prompt before the\", metadata={'source': 'transcription.txt'}),\n",
       " Document(page_content=\"in order to answer the patient question at the end. And then you put in a bunch of information about parking or about knee surgery or whenever the patient asked, you put that in the prompt before the prompt. Then you have the question. Then you send that whole package to the LOM and the LOM will give a great response based on your content. Okay? With me so far. So this notion is the prompt before the prompt. And that's why prompt engineering and these types of things are big field right now because you can really hone the systems by doing a better and better job with the actual prompt before the prompt in the style. Now the last trick here is your website or your content is huge and it talks about all kinds of topics beyond parking and beyond knee surgery. So you really want to somehow pull out only the parts of your content that are relevant to the patient's question. So this is another tricky part of this whole rag architecture. And the way that works is that you take all your\", metadata={'source': 'transcription.txt'}),\n",
       " Document(page_content=\"pull out only the parts of your content that are relevant to the patient's question. So this is another tricky part of this whole rag architecture. And the way that works is that you take all your content and you break it into chunks or these systems will break it into chunks. So chunks might be a paragraph of content or a couple paragraphs, a page, something like that. And then those chunks are sent to a large language model, could be the same one or a different one. And they are turned into a vector. And so each each paragraph or each chunk will have a vector which is just a series of numbers. And that series of numbers, you can think of it as the numeric representation of the essence of that paragraph. And what's different about these numbers, they're not random numbers, but paragraphs to talk about a similar topic have close by numbers. They almost have the same vectors. So in addition to the, it's a numericized version of the paragraph, but it's such that similar paragraphs on\", metadata={'source': 'transcription.txt'}),\n",
       " Document(page_content=\"to talk about a similar topic have close by numbers. They almost have the same vectors. So in addition to the, it's a numericized version of the paragraph, but it's such that similar paragraphs on similar topics will have similar vectors, will have similar numbers. So that means that what happens is when a user will ask a question like do you have parking let's say. Then that is also sent to the LOM in real time right after the user asked the question. That comes up with the vector as well. You could think of that as the question vector. And then what happens is we do a mathematical comparison real quick between the vector of the question and then the vectors of your content and pick like the top five documents that are closest to this question. So do you have parking will be a vector. Then you have all your content and it's going to try and find the five documents that talk the most about parking basically. And so it'll find us, I don't know what that is, it'll find those documents\", metadata={'source': 'transcription.txt'}),\n",
       " Document(page_content=\"you have all your content and it's going to try and find the five documents that talk the most about parking basically. And so it'll find us, I don't know what that is, it'll find those documents let's say from these, it'll grab the paragraphs associated with those documents and it'll use that here. So those will be the subset of your content basically that is used as part of the prompt before the prompt. Okay. So this whole concept is kind of vectorizing your content. Typically that then are stored in something called a vector database, which is basically a representation of your content in this numeric form. And then this system that you build this rag system will take the question, find retrieve the most relevant content, make that as part of the prompt before the prompt, send that to the LOM and then you get a good response back actually. So it's a little bit confusing, but it's actually not that confusing. I just made it more confusing by this horrible drawing. But this whole\", metadata={'source': 'transcription.txt'}),\n",
       " Document(page_content=\"to the LOM and then you get a good response back actually. So it's a little bit confusing, but it's actually not that confusing. I just made it more confusing by this horrible drawing. But this whole thing is what is called rag retrieval. So you're retrieving the relevant documents from your content. You're augmenting the generation process. So you're augmenting the LLOM's ability to do generative AI based on the documents that you retrieve. So that's why it's retrieval augmenting generation. Okay. So I hope that made sense. Like I said, this is a very popular solution pattern that I'm seeing over and over again. In fact, the majority of LLOM projects that I see are this kind of thing. Using my content, packaging that up with an LLOM system to create a kind of chat GPT-like experience for my employees or for my customers, for my users, that kind of thing. And it works extremely well. That's why it's so popular. So I hope that was interesting and educational and made sense. If you have\", metadata={'source': 'transcription.txt'}),\n",
       " Document(page_content=\"my employees or for my customers, for my users, that kind of thing. And it works extremely well. That's why it's so popular. So I hope that was interesting and educational and made sense. If you have any questions, please leave them for me as part of the comments. Thank you very much.\", metadata={'source': 'transcription.txt'})]"
      ]
     },
     "execution_count": 43,
     "metadata": {},
     "output_type": "execute_result"
    }
   ],
   "source": [
    "from langchain.text_splitter import RecursiveCharacterTextSplitter\n",
    "# Diviser le texte en morceaux (petites parties) avec un chevauchement pour préserver le contexte entre eux.\n",
    "# Split text into chunks (small parts) with some overlap to preserve context between them\n",
    "text_splitter = RecursiveCharacterTextSplitter(chunk_size=1000, chunk_overlap=200)  \n",
    "text_splitter.split_documents(text_documents)\n"
   ]
  },
  {
   "cell_type": "markdown",
   "metadata": {},
   "source": [
    "### Finding the 'most' relevant chunks / Trouver les morceaux « les plus » pertinents"
   ]
  },
  {
   "cell_type": "code",
   "execution_count": 50,
   "metadata": {},
   "outputs": [
    {
     "name": "stdout",
     "output_type": "stream",
     "text": [
      "Embedded length: 1536\n",
      "[-0.002130595652592444, -0.008266212101502673, -0.007428968971531963, -0.008891019629032127, -0.006960362860223603, 0.01723220878284994, -0.00038289024073184796, 0.01342087839457209, 0.004142477949460095, -0.02244310926213952, 0.004011268107908599, -0.012946024971672916, 0.011177817861998838, -0.010659226738706205, 0.006144988114788353, -0.02631691928558327, 0.025204759986682864, -0.00879105053638612, 0.029515935838190756, -0.02684175678914418]\n"
     ]
    }
   ],
   "source": [
    "# Generate the embeddings for an arbitrary query\n",
    "from langchain_openai.embeddings import OpenAIEmbeddings\n",
    "\n",
    "embeddings = OpenAIEmbeddings(model=\"text-embedding-ada-002\")\n",
    "embedded_query = embeddings.embed_query(\"Who is Britney's sister?\")\n",
    "print(f\"Embedded length: {len(embedded_query)}\")\n",
    "print(embedded_query[:20])"
   ]
  },
  {
   "cell_type": "code",
   "execution_count": null,
   "metadata": {},
   "outputs": [],
   "source": [
    "# Generate embedding of two sample contexts / Générer l'intégration de deux contextes d'échantillon\n",
    "context1 = embeddings.embed_query(\"Britney's sister is Alyssia\")\n",
    "context2 = embeddings.embed_query(\"Hatim's mother is a lecturer\")"
   ]
  },
  {
   "cell_type": "code",
   "execution_count": null,
   "metadata": {},
   "outputs": [
    {
     "name": "stdout",
     "output_type": "stream",
     "text": [
      "Similarities: (0.9266274878875663, 0.7323881018213361)\n"
     ]
    }
   ],
   "source": [
    "# Use Cosine Similarity to compute the similarity between the query and both contexts\n",
    "# Utiliser la similarité cosinus pour calculer la similarité entre la requête et les deux contextes\n",
    "\n",
    "from sklearn.metrics.pairwise import cosine_similarity\n",
    "# cosine_similarity returns a 2D matrix / cosine_similarity renvoie une matrice 2D\n",
    "query_context1_similarity = cosine_similarity([embedded_query], [context1])[0][0] \n",
    "query_context2_similarity = cosine_similarity([embedded_query], [context2])[0][0]\n",
    "print(f\"Similarities: {query_context1_similarity, query_context2_similarity}\")\n"
   ]
  },
  {
   "cell_type": "markdown",
   "metadata": {},
   "source": [
    "### Setting up a Knowledge Base (KB) / Vector Store (VS)\n",
    "###### A Vector Store is a smart knowledge base that stores text as vectors (meaning), so you can do semantic search."
   ]
  },
  {
   "cell_type": "code",
   "execution_count": 18,
   "metadata": {},
   "outputs": [],
   "source": [
    "'''\n",
    "A KB/VS is a database consisting of embeddings that specializes in fast similarity searches\n",
    "\n",
    "'''\n",
    "from langchain_community.vectorstores import DocArrayInMemorySearch\n",
    "vectorstore1 = DocArrayInMemorySearch.from_texts(\n",
    "    [\n",
    "        \"Britney's sister is Alyssia\",\n",
    "        \"Kamil's beloved is Angelina Jolie\",\n",
    "        \"Steve and Bill are brothers\",\n",
    "        \"Susu likes blue cars\",\n",
    "        \"hatim's mother is a lecturer\",\n",
    "        \"Aziz drives Ferrari\",\n",
    "        \"Newton has two siblings\"\n",
    "    ],embedding=embeddings\n",
    ")"
   ]
  },
  {
   "cell_type": "markdown",
   "metadata": {},
   "source": [
    "##### Query the vector store to find and retrieve similar embeddings to a given query\n",
    "#### Interroger le magasin de vecteurs pour trouver et récupérer des incorporations similaires à une requête donnée"
   ]
  },
  {
   "cell_type": "code",
   "execution_count": null,
   "metadata": {},
   "outputs": [
    {
     "data": {
      "text/plain": [
       "[(Document(metadata={}, page_content='Newton has two siblings'),\n",
       "  0.7396408197524729),\n",
       " (Document(metadata={}, page_content='Steve and Bill are brothers'),\n",
       "  0.7364655602869042),\n",
       " (Document(metadata={}, page_content=\"Kamil's beloved is Angelina Jolie\"),\n",
       "  0.7175855140937656),\n",
       " (Document(metadata={}, page_content=\"hatim's mother is a lecturer\"),\n",
       "  0.7158917297626433),\n",
       " (Document(metadata={}, page_content='Susu likes blue cars'),\n",
       "  0.707576119773465)]"
      ]
     },
     "execution_count": 17,
     "metadata": {},
     "output_type": "execute_result"
    }
   ],
   "source": [
    "query = \"What is the world population?\"\n",
    "vectorstore1.similarity_search_with_score(query = query, k=5)"
   ]
  },
  {
   "cell_type": "markdown",
   "metadata": {},
   "source": [
    "### Connecting the KB / VS to the chain"
   ]
  },
  {
   "cell_type": "code",
   "execution_count": null,
   "metadata": {},
   "outputs": [
    {
     "data": {
      "text/plain": [
       "[Document(page_content='Newton has two siblings'),\n",
       " Document(page_content='Steve and Bill are brothers'),\n",
       " Document(page_content=\"Britney's sister is Alyssia\"),\n",
       " Document(page_content=\"hatim's mother is a lecturer\")]"
      ]
     },
     "execution_count": 25,
     "metadata": {},
     "output_type": "execute_result"
    }
   ],
   "source": [
    "'''\n",
    "We can use the vector store to store the transcription.txt and retrieve relevant chunks from the latter\n",
    "and send them to the model afterwards.\n",
    "- TODO:\n",
    "    - Configure a Retriever: will run similarity search in the VS and return the most similar chunks\n",
    "    - We can get a retriever directly from the vector store\n",
    "'''\n",
    "\n",
    "# as_retriever : This turns your vector store into a Retriever.\n",
    "#Think of a Retriever like a smart search engine — you give it a question, \n",
    "# and it gives you the best matching pieces of text from your knowledge base.\n",
    "# simply wraps the vector store so that you can plug it into a chain later.\n",
    "\n",
    "\n",
    "# as_retriever : Ceci transforme votre magasin vectoriel en Retriever.\n",
    "#Considérez un Retriever comme un moteur de recherche intelligent : vous lui posez une question,\n",
    "# et il vous fournit les éléments de texte les plus pertinents de votre base de connaissances.\n",
    "# Il encapsule simplement le magasin vectoriel afin que vous puissiez l'intégrer ultérieurement à une chaîne.\n",
    "\n",
    "\n",
    "# Chain : Combines retriever + prompt + model to generate full answers\n",
    "chunks_retriever = vectorstore1.as_retriever()\n",
    "chunks_retriever.invoke(\"How many siblings does Newton have?\")"
   ]
  },
  {
   "cell_type": "markdown",
   "metadata": {},
   "source": [
    "#### Reminder: \n",
    "\n",
    "**Our prompt expects two parameters, to with, \"context\" and \"question\".\n",
    "We can use the retriever to find the relevant chunks we will use as the context to answer\n",
    " the question.**\n"
   ]
  },
  {
   "cell_type": "code",
   "execution_count": 26,
   "metadata": {},
   "outputs": [
    {
     "data": {
      "text/plain": [
       "{'context': [Document(page_content='Newton has two siblings'),\n",
       "  Document(page_content='Steve and Bill are brothers'),\n",
       "  Document(page_content=\"Britney's sister is Alyssia\"),\n",
       "  Document(page_content=\"hatim's mother is a lecturer\")],\n",
       " 'question': 'How many siblings does Newtom have?'}"
      ]
     },
     "execution_count": 26,
     "metadata": {},
     "output_type": "execute_result"
    }
   ],
   "source": [
    "from langchain_core.runnables import RunnableParallel, RunnablePassthrough\n",
    "setup = RunnableParallel(context = chunks_retriever, question=RunnablePassthrough())\n",
    "setup.invoke(\"How many siblings does Newtom have?\")"
   ]
  },
  {
   "cell_type": "markdown",
   "metadata": {},
   "source": [
    "#### Add the setup map to the chain"
   ]
  },
  {
   "cell_type": "code",
   "execution_count": null,
   "metadata": {},
   "outputs": [
    {
     "data": {
      "text/plain": [
       "'Newton has two siblings.'"
      ]
     },
     "execution_count": 20,
     "metadata": {},
     "output_type": "execute_result"
    }
   ],
   "source": [
    "# Il prend la question, trouve les informations pertinentes, les formate, demande au modèle et nettoie la réponse.\n",
    "# it Takes the question, finds relevant info, formats it, asks the model, and cleans up the answer.\n",
    "chain = setup | prompt | model | parser\n",
    "chain.invoke(\"How many siblings does Newtom have?\")"
   ]
  },
  {
   "cell_type": "code",
   "execution_count": null,
   "metadata": {},
   "outputs": [
    {
     "data": {
      "text/plain": [
       "'Aziz drives a Ferrari.'"
      ]
     },
     "execution_count": 21,
     "metadata": {},
     "output_type": "execute_result"
    }
   ],
   "source": [
    "chain.invoke(\"What car does Aziz drive?\")"
   ]
  },
  {
   "cell_type": "code",
   "execution_count": null,
   "metadata": {},
   "outputs": [
    {
     "data": {
      "text/plain": [
       "\"Kamil's beloved is Angelina Jolie.\""
      ]
     },
     "execution_count": 22,
     "metadata": {},
     "output_type": "execute_result"
    }
   ],
   "source": [
    "chain.invoke(\"Whose beloved is Angelina Jolie?\")"
   ]
  },
  {
   "cell_type": "markdown",
   "metadata": {},
   "source": [
    "### Loading Transcript into the Vector Store"
   ]
  },
  {
   "cell_type": "code",
   "execution_count": 19,
   "metadata": {},
   "outputs": [],
   "source": [
    "# Setup the chain using the correct vectorstore.add()\n",
    "documents = text_splitter.split_documents(text_documents)\n",
    "trans_vectorstore = DocArrayInMemorySearch.from_documents(documents=documents, embedding=embeddings)"
   ]
  },
  {
   "cell_type": "code",
   "execution_count": null,
   "metadata": {},
   "outputs": [
    {
     "data": {
      "text/plain": [
       "'RAG stands for Retrieval Augmented Generation, which is an architecture used to retrieve relevant documents from content, augment the generation process, and improve the ability of large language models to generate AI based on the retrieved documents.'"
      ]
     },
     "execution_count": 24,
     "metadata": {},
     "output_type": "execute_result"
    }
   ],
   "source": [
    "chain = (\n",
    "    {\"context\": trans_vectorstore.as_retriever(), \"question\": RunnablePassthrough()}\n",
    "    | prompt\n",
    "    | model\n",
    "    |parser\n",
    ")\n",
    "chain.invoke(\"What is RAG?\")\n"
   ]
  },
  {
   "cell_type": "markdown",
   "metadata": {},
   "source": [
    "### Let's use Pinecone as Vector Store.\n",
    "Pinecone is the leading AI infrastructure for building accurate, secure, and scalable AI applications. Use Pinecone Database to store and search vector data at scale, or start with Pinecone Assistant to get a RAG application running in minutes."
   ]
  },
  {
   "cell_type": "code",
   "execution_count": null,
   "metadata": {},
   "outputs": [],
   "source": [
    "# taking your documents, turning them into vector format (with meaning), \n",
    "# and storing them in Pinecone so your AI assistant can later search and answer questions based on them.\n",
    "\n",
    "# prendre vos documents, les transformer en format vectoriel (avec sens) \n",
    "# et les stocker dans Pinecone afin que votre assistant IA puisse ensuite rechercher et répondre à des questions en fonction de ceux-ci.\n",
    "from dotenv import load_dotenv\n",
    "load_dotenv()\n",
    "\n",
    "from langchain_pinecone import PineconeVectorStore\n",
    "pinecone_index_name = \"rcw2025\"\n",
    "\n",
    "pinecone = PineconeVectorStore.from_documents(\n",
    "    documents=documents, embedding=embeddings, index_name=pinecone_index_name\n",
    ")\n"
   ]
  },
  {
   "cell_type": "markdown",
   "metadata": {},
   "source": [
    "### Use Pinecone as retrieval"
   ]
  },
  {
   "cell_type": "code",
   "execution_count": 28,
   "metadata": {},
   "outputs": [
    {
     "data": {
      "text/plain": [
       "[Document(page_content=\"pull out only the parts of your content that are relevant to the patient's question. So this is another tricky part of this whole rag architecture. And the way that works is that you take all your content and you break it into chunks or these systems will break it into chunks. So chunks might be a paragraph of content or a couple paragraphs, a page, something like that. And then those chunks are sent to a large language model, could be the same one or a different one. And they are turned into a vector. And so each each paragraph or each chunk will have a vector which is just a series of numbers. And that series of numbers, you can think of it as the numeric representation of the essence of that paragraph. And what's different about these numbers, they're not random numbers, but paragraphs to talk about a similar topic have close by numbers. They almost have the same vectors. So in addition to the, it's a numericized version of the paragraph, but it's such that similar paragraphs on\", metadata={'source': 'transcription.txt'}),\n",
       " Document(page_content=\"have a library of PDF documents that this documentation for one of your products. And instead of just linking the user to pair of sections of the documentation, you want to actually answer their question. It might be your service ticketing system. So when a new issue comes in, you could say, how would I resolve this issue? And it can assemble past similar issues and then come up with a new solution based on that. So this is an incredible experience that these large language models offer, but how can you create that experience on your own content that might not be available to the internet or available to these large language models? Well the solution to this is this rag architecture, this retrieval augmented generation architecture. So now I'm going to do my best to explain that to you. So let's say you have a user and I'm going to use the example of a patient chatbot and the content source is going to be the content from your website, let's say, or could be content from PDF documents\", metadata={'source': 'transcription.txt'}),\n",
       " Document(page_content=\"to the LOM and then you get a good response back actually. So it's a little bit confusing, but it's actually not that confusing. I just made it more confusing by this horrible drawing. But this whole thing is what is called rag retrieval. So you're retrieving the relevant documents from your content. You're augmenting the generation process. So you're augmenting the LLOM's ability to do generative AI based on the documents that you retrieve. So that's why it's retrieval augmenting generation. Okay. So I hope that made sense. Like I said, this is a very popular solution pattern that I'm seeing over and over again. In fact, the majority of LLOM projects that I see are this kind of thing. Using my content, packaging that up with an LLOM system to create a kind of chat GPT-like experience for my employees or for my customers, for my users, that kind of thing. And it works extremely well. That's why it's so popular. So I hope that was interesting and educational and made sense. If you have\", metadata={'source': 'transcription.txt'})]"
      ]
     },
     "execution_count": 28,
     "metadata": {},
     "output_type": "execute_result"
    }
   ],
   "source": [
    "pinecone.similarity_search(\"How does RAG differ from Fine-Tune?\")[:3]"
   ]
  },
  {
   "cell_type": "markdown",
   "metadata": {},
   "source": [
    "### Combine Picone with the Chain / Combiner Picone avec la chaîne"
   ]
  },
  {
   "cell_type": "code",
   "execution_count": 27,
   "metadata": {},
   "outputs": [
    {
     "data": {
      "text/plain": [
       "'My apologies, but I have no clue.'"
      ]
     },
     "execution_count": 27,
     "metadata": {},
     "output_type": "execute_result"
    }
   ],
   "source": [
    "chain = (\n",
    "    {\"context\": pinecone.as_retriever(), \"question\": RunnablePassthrough()}\n",
    "    | prompt\n",
    "    | model\n",
    "    | parser\n",
    ")\n",
    "chain.invoke(\"How does RAG differ from Fine-Tune?\")"
   ]
  },
  {
   "cell_type": "markdown",
   "metadata": {},
   "source": []
  }
 ],
 "metadata": {
  "kernelspec": {
   "display_name": "env",
   "language": "python",
   "name": "python3"
  },
  "language_info": {
   "codemirror_mode": {
    "name": "ipython",
    "version": 3
   },
   "file_extension": ".py",
   "mimetype": "text/x-python",
   "name": "python",
   "nbconvert_exporter": "python",
   "pygments_lexer": "ipython3",
   "version": "3.10.11"
  }
 },
 "nbformat": 4,
 "nbformat_minor": 2
}
